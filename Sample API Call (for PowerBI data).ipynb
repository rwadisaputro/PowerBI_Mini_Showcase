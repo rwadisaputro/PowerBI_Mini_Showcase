{
 "cells": [
  {
   "cell_type": "code",
   "execution_count": null,
   "metadata": {},
   "outputs": [],
   "source": [
    "# Import packages\n",
    "import pandas as pd\n",
    "import numpy as np\n",
    "import json\n",
    "import requests\n",
    "\n",
    "# Initialize variables\n",
    "alpha_vantage_key = \"\" \n",
    "stock = [\"AAPL\"] # Just 1 for example purposes\n",
    "df = pd.DataFrame()\n",
    "\n",
    "# For loop for API call\n",
    "for s in stock:\n",
    "    request = requests.get(f\"https://www.alphavantage.co/query?function=TIME_SERIES_INTRADAY&symbol={s}&interval=1min&outputsize=full&apikey={alpha_vantage_key}\").json()\n",
    "    request = pd.DataFrame(request[\"Time Series (1min)\"]).transpose().reset_index().rename(columns = {\"index\": \"timestamp\"}).assign(stock = s)\n",
    "    request[\"timestamp\"] = pd.to_datetime(request[\"timestamp\"])\n",
    "    df = df.append(request)\n",
    "\n",
    "# Separate timestamp to date & time columns\n",
    "dates, times = zip(*[(d.date(), d.time()) for d in df[\"timestamp\"]])\n",
    "df = df.assign(date = dates, time = times)\n",
    "\n",
    "# Convert type to float\n",
    "df[[\"1. open\", \"4. close\"]] = df[[\"1. open\", \"4. close\"]].astype(float)\n",
    "\n",
    "# Function to calculate difference\n",
    "def calculate_diff(row):\n",
    "    if row[\"1. open\"] - row[\"4. close\"] > 0:\n",
    "        return \"Open > Close\"\n",
    "    elif row[\"1. open\"] - row[\"4. close\"] < 0:\n",
    "        return \"Open < Close\"\n",
    "    else:\n",
    "        return \"Open = Close\"\n",
    "df[\"open/close difference\"] = df.apply(calculate_diff, axis = 1)\n",
    "\n",
    "# Save to csv file\n",
    "df.to_csv(r\"File\\\\Path\\\\File.csv\")"
   ]
  }
 ],
 "metadata": {
  "kernelspec": {
   "display_name": "Python 3",
   "language": "python",
   "name": "python3"
  },
  "language_info": {
   "codemirror_mode": {
    "name": "ipython",
    "version": 3
   },
   "file_extension": ".py",
   "mimetype": "text/x-python",
   "name": "python",
   "nbconvert_exporter": "python",
   "pygments_lexer": "ipython3",
   "version": "3.8.3"
  }
 },
 "nbformat": 4,
 "nbformat_minor": 4
}
